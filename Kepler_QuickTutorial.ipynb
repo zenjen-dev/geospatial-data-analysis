{
 "cells": [
  {
   "cell_type": "code",
   "execution_count": 1,
   "metadata": {
    "collapsed": true,
    "jupyter": {
     "outputs_hidden": true
    }
   },
   "outputs": [
    {
     "name": "stdout",
     "output_type": "stream",
     "text": [
      "Collecting keplergl\n",
      "  Downloading keplergl-0.3.2.tar.gz (9.7 MB)\n",
      "\u001b[K     |████████████████████████████████| 9.7 MB 10.7 MB/s eta 0:00:01\n",
      "\u001b[?25h  Installing build dependencies ... \u001b[?25ldone\n",
      "\u001b[?25h  Getting requirements to build wheel ... \u001b[?25ldone\n",
      "\u001b[?25h    Preparing wheel metadata ... \u001b[?25ldone\n",
      "\u001b[?25hRequirement already satisfied: pandas>=0.23.0 in ./opt/anaconda3/lib/python3.8/site-packages (from keplergl) (1.1.3)\n",
      "Requirement already satisfied: ipywidgets<8,>=7.0.0 in ./opt/anaconda3/lib/python3.8/site-packages (from keplergl) (7.5.1)\n",
      
     ]
    }
   ],
   "source": [
    "!pip install keplergl"
   ]
  },
  {
   "cell_type": "code",
   "execution_count": 5,
   "metadata": {},
   "outputs": [],
   "source": [
    "import pandas as pd\n",
    "import geopandas as gpd\n",
    "import keplergl"
   ]
  },
  {
   "cell_type": "code",
   "execution_count": 15,
   "metadata": {},
   "outputs": [
    {
     "data": {
      "text/html": [
       "<div>\n",
       "<style scoped>\n",
       "    .dataframe tbody tr th:only-of-type {\n",
       "        vertical-align: middle;\n",
       "    }\n",
       "\n",
       "    .dataframe tbody tr th {\n",
       "        vertical-align: top;\n",
       "    }\n",
       "\n",
       "    .dataframe thead th {\n",
       "        text-align: right;\n",
       "    }\n",
       "</style>\n",
       "<table border=\"1\" class=\"dataframe\">\n",
       "  <thead>\n",
       "    <tr style=\"text-align: right;\">\n",
       "      <th></th>\n",
       "      <th>OBJECTID</th>\n",
       "      <th>observedAt</th>\n",
       "      <th>longitude</th>\n",
       "      <th>latitude</th>\n",
       "    </tr>\n",
       "  </thead>\n",
       "  <tbody>\n",
       "    <tr>\n",
       "      <th>0</th>\n",
       "      <td>1</td>\n",
       "      <td>2019/05/06 02:45:39.880</td>\n",
       "      <td>-77.598131</td>\n",
       "      <td>43.141564</td>\n",
       "    </tr>\n",
       "    <tr>\n",
       "      <th>1</th>\n",
       "      <td>2</td>\n",
       "      <td>2019/04/13 00:21:18.275</td>\n",
       "      <td>-77.601711</td>\n",
       "      <td>43.169184</td>\n",
       "    </tr>\n",
       "    <tr>\n",
       "      <th>2</th>\n",
       "      <td>3</td>\n",
       "      <td>2019/05/25 21:07:13.735</td>\n",
       "      <td>-77.607835</td>\n",
       "      <td>43.154585</td>\n",
       "    </tr>\n",
       "    <tr>\n",
       "      <th>3</th>\n",
       "      <td>4</td>\n",
       "      <td>2019/05/25 21:12:49.270</td>\n",
       "      <td>-77.601628</td>\n",
       "      <td>43.155556</td>\n",
       "    </tr>\n",
       "    <tr>\n",
       "      <th>4</th>\n",
       "      <td>5</td>\n",
       "      <td>2019/05/26 22:27:52.910</td>\n",
       "      <td>-77.589106</td>\n",
       "      <td>43.143897</td>\n",
       "    </tr>\n",
       "  </tbody>\n",
       "</table>\n",
       "</div>"
      ],
      "text/plain": [
       "   OBJECTID               observedAt  longitude   latitude\n",
       "0         1  2019/05/06 02:45:39.880 -77.598131  43.141564\n",
       "1         2  2019/04/13 00:21:18.275 -77.601711  43.169184\n",
       "2         3  2019/05/25 21:07:13.735 -77.607835  43.154585\n",
       "3         4  2019/05/25 21:12:49.270 -77.601628  43.155556\n",
       "4         5  2019/05/26 22:27:52.910 -77.589106  43.143897"
      ]
     },
     "execution_count": 15,
     "metadata": {},
     "output_type": "execute_result"
    }
   ],
   "source": [
    "df_BikeShares = pd.read_csv(\"2019_Pace_BikeActivity_Data.csv\")\n",
    "df_BikeShares.head()"
   ]
  },
  {
   "cell_type": "code",
   "execution_count": 10,
   "metadata": {},
   "outputs": [],
   "source": [
    "# lat and lon to numeric, errors converted to nan\n",
    "df_BikeShares['longitude'] = pd.to_numeric(df_BikeShares.longitude, errors='coerce')\n",
    "df_BikeShares['latitude'] = pd.to_numeric(df_BikeShares.latitude, errors='coerce')"
   ]
  },
  {
   "cell_type": "code",
   "execution_count": 9,
   "metadata": {},
   "outputs": [
    {
     "name": "stdout",
     "output_type": "stream",
     "text": [
      "User Guide: https://docs.kepler.gl/docs/keplergl-jupyter\n"
     ]
    },
    {
     "data": {
      "application/vnd.jupyter.widget-view+json": {
       "model_id": "340966dc703c4ceaa941c75d93c25ab1",
       "version_major": 2,
       "version_minor": 0
      },
      "text/plain": [
       "KeplerGl()"
      ]
     },
     "metadata": {},
     "output_type": "display_data"
    }
   ],
   "source": [
    "# Configure the Kepler map visualization\n",
    "kepler_map = keplergl.KeplerGl(height=400) # more map configs can be added for easier view\n",
    "kepler_map\n",
    "\n",
    "# Add data to map\n",
    "kepler_map.add_data(data=df_BikeShares, name=\"Pace_BikeShare_Data\")"
   ]
  },
  {
   "cell_type": "code",
   "execution_count": 12,
   "metadata": {},
   "outputs": [
    {
     "data": {
      "application/vnd.jupyter.widget-view+json": {
       "model_id": "340966dc703c4ceaa941c75d93c25ab1",
       "version_major": 2,
       "version_minor": 0
      },
      "text/plain": [
       "KeplerGl(data={'Pace_BikeShare_Data': {'index': [0, 1, 2, 3, 4, 5, 6, 7, 8, 9, 10, 11, 12, 13, 14, 15, 16, 17,…"
      ]
     },
     "metadata": {},
     "output_type": "display_data"
    }
   ],
   "source": [
    "# Generate the map indexes\n",
    "kepler_map"
   ]
  },
  {
   "cell_type": "code",
   "execution_count": 13,
   "metadata": {},
   "outputs": [
    {
     "name": "stdout",
     "output_type": "stream",
     "text": [
      "Map saved to Pace_BikeShare_Data.html!\n"
     ]
    }
   ],
   "source": [
    "# Generate the visualization and save as local HTML file\n",
    "kepler_map.save_to_html(file_name='Pace_BikeShare_Data.html', \n",
    "                        data={\"Pace_BikeShare_Data\": file})"
   ]
  },
  {
   "cell_type": "code",
   "execution_count": null,
   "metadata": {},
   "outputs": [],
   "source": []
  },
  {
   "cell_type": "code",
   "execution_count": null,
   "metadata": {},
   "outputs": [],
   "source": []
  }
 ],
 "metadata": {
  "kernelspec": {
   "display_name": "Python 3",
   "language": "python",
   "name": "python3"
  },
  "language_info": {
   "codemirror_mode": {
    "name": "ipython",
    "version": 3
   },
   "file_extension": ".py",
   "mimetype": "text/x-python",
   "name": "python",
   "nbconvert_exporter": "python",
   "pygments_lexer": "ipython3",
   "version": "3.8.5"
  }
 },
 "nbformat": 4,
 "nbformat_minor": 4
}
